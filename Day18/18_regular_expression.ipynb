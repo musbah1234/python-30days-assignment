{
 "cells": [
  {
   "cell_type": "code",
   "execution_count": null,
   "metadata": {},
   "outputs": [],
   "source": [
    "import re"
   ]
  },
  {
   "cell_type": "markdown",
   "metadata": {},
   "source": [
    "# syntac\n",
    "re.match(substring, string, re.I)\n",
    "# substring is a string or a pattern, string is the text we look for a pattern , re.I is case ignore"
   ]
  },
  {
   "cell_type": "markdown",
   "metadata": {},
   "source": [
    "import re\n",
    "\n",
    "txt = 'I love to teach python and javaScript'\n",
    "# It returns an object with span, and match\n",
    "match = re.match('I love to teach', txt, re.I)\n",
    "print(match)  # <re.Match object; span=(0, 15), match='I love to teach'>\n",
    "# We can get the starting and ending position of the match as tuple using span\n",
    "span = match.span()\n",
    "print(span)     # (0, 15)\n",
    "# Lets find the start and stop position from the span\n",
    "start, end = span\n",
    "print(start, end)  # 0, 15\n",
    "substring = txt[start:end]\n",
    "print(substring)       # I love to teach"
   ]
  },
  {
   "cell_type": "markdown",
   "metadata": {},
   "source": [
    "import re\n",
    "\n",
    "txt = 'I love to teach python and javaScript'\n",
    "match = re.match('I like to teach', txt, re.I)\n",
    "print(match)  # None"
   ]
  },
  {
   "cell_type": "markdown",
   "metadata": {},
   "source": [
    "# syntax\n",
    "re.match(substring, string, re.I)\n",
    "# substring is a pattern, string is the text we look for a pattern , re.I is case ignore flag"
   ]
  },
  {
   "cell_type": "markdown",
   "metadata": {},
   "source": [
    "import re\n",
    "\n",
    "txt = '''Python is the most beautiful language that a human being has ever created.\n",
    "I recommend python for a first programming language'''\n",
    "\n",
    "# It returns an object with span and match\n",
    "match = re.search('first', txt, re.I)\n",
    "print(match)  # <re.Match object; span=(100, 105), match='first'>\n",
    "# We can get the starting and ending position of the match as tuple using span\n",
    "span = match.span()\n",
    "print(span)     # (100, 105)\n",
    "# Lets find the start and stop position from the span\n",
    "start, end = span\n",
    "print(start, end)  # 100 105\n",
    "substring = txt[start:end]\n",
    "print(substring)       # first"
   ]
  },
  {
   "cell_type": "markdown",
   "metadata": {},
   "source": [
    "txt = '''Python is the most beautiful language that a human being has ever created.\n",
    "I recommend python for a first programming language'''\n",
    "\n",
    "# It return a list\n",
    "matches = re.findall('language', txt, re.I)\n",
    "print(matches)  # ['language', 'language']"
   ]
  },
  {
   "cell_type": "markdown",
   "metadata": {},
   "source": [
    "txt = '''Python is the most beautiful language that a human being has ever created.\n",
    "I recommend python for a first programming language'''\n",
    "\n",
    "# It returns list\n",
    "matches = re.findall('python', txt, re.I)\n",
    "print(matches)  # ['Python', 'python']\n"
   ]
  },
  {
   "cell_type": "markdown",
   "metadata": {},
   "source": [
    "txt = '''Python is the most beautiful language that a human being has ever created.\n",
    "I recommend python for a first programming language'''\n",
    "\n",
    "matches = re.findall('Python|python', txt)\n",
    "print(matches)  # ['Python', 'python']\n",
    "\n",
    "#\n",
    "matches = re.findall('[Pp]ython', txt)\n",
    "print(matches)  # ['Python', 'python']\n"
   ]
  },
  {
   "cell_type": "markdown",
   "metadata": {},
   "source": [
    "txt = '''Python is the most beautiful language that a human being has ever created.\n",
    "I recommend python for a first programming language'''\n",
    "\n",
    "match_replaced = re.sub('Python|python', 'JavaScript', txt, re.I)\n",
    "print(match_replaced)  # JavaScript is the most beautiful language that a human being has ever created.\n",
    "# OR\n",
    "match_replaced = re.sub('[Pp]ython', 'JavaScript', txt, re.I)\n",
    "print(match_replaced)  # JavaScript is the most beautiful language that a human being has ever created."
   ]
  },
  {
   "cell_type": "markdown",
   "metadata": {},
   "source": [
    "\n",
    "txt = '''%I a%m te%%a%%che%r% a%n%d %% I l%o%ve te%ach%ing. \n",
    "T%he%re i%s n%o%th%ing as r%ewarding a%s e%duc%at%i%ng a%n%d e%m%p%ow%er%ing p%e%o%ple.\n",
    "I fo%und te%a%ching m%ore i%n%t%er%%es%ting t%h%an any other %jobs. \n",
    "D%o%es thi%s m%ot%iv%a%te %y%o%u to b%e a t%e%a%cher?'''\n",
    "\n",
    "matches = re.sub('%', '', txt)\n",
    "print(matches)"
   ]
  },
  {
   "cell_type": "markdown",
   "metadata": {},
   "source": [
    "I am teacher and I love teaching.\n",
    "There is nothing as rewarding as educating and empowering people. \n",
    "I found teaching more interesting than any other jobs. Does this motivate you to be a teacher?"
   ]
  },
  {
   "cell_type": "markdown",
   "metadata": {},
   "source": [
    "txt = '''I am teacher and  I love teaching.\n",
    "There is nothing as rewarding as educating and empowering people.\n",
    "I found teaching more interesting than any other jobs.\n",
    "Does this motivate you to be a teacher?'''\n",
    "print(re.split('\\n', txt)) # splitting using \\n - end of line symbol"
   ]
  },
  {
   "cell_type": "markdown",
   "metadata": {},
   "source": [
    "import re\n",
    "\n",
    "regex_pattern = r'apple'\n",
    "txt = 'Apple and banana are fruits. An old cliche says an apple a day a doctor way has been replaced by a banana a day keeps the doctor far far away. '\n",
    "matches = re.findall(regex_pattern, txt)\n",
    "print(matches)  # ['apple']\n",
    "\n",
    "# To make case insensitive adding flag '\n",
    "matches = re.findall(regex_pattern, txt, re.I)\n",
    "print(matches)  # ['Apple', 'apple']\n",
    "# or we can use a set of characters method\n",
    "regex_pattern = r'[Aa]pple'  # this mean the first letter could be Apple or apple\n",
    "matches = re.findall(regex_pattern, txt)\n",
    "print(matches)  # ['Apple', 'apple']\n"
   ]
  },
  {
   "cell_type": "markdown",
   "metadata": {},
   "source": [
    "regex_pattern = r'[Aa]pple' # this square bracket mean either A or a\n",
    "txt = 'Apple and banana are fruits. An old cliche says an apple a day a doctor way has been replaced by a banana a day keeps the doctor far far away.'\n",
    "matches = re.findall(regex_pattern, txt)\n",
    "print(matches)  # ['Apple', 'apple']"
   ]
  },
  {
   "cell_type": "markdown",
   "metadata": {},
   "source": [
    "regex_pattern = r'[Aa]pple|[Bb]anana' # this square bracket means either A or a\n",
    "txt = 'Apple and banana are fruits. An old cliche says an apple a day a doctor way has been replaced by a banana a day keeps the doctor far far away.'\n",
    "matches = re.findall(regex_pattern, txt)\n",
    "print(matches)  # ['Apple', 'banana', 'apple', 'banana']"
   ]
  },
  {
   "cell_type": "markdown",
   "metadata": {},
   "source": [
    "regex_pattern = r'\\d'  # d is a special character which means digits\n",
    "txt = 'This regular expression example was made on December 6,  2019 and revised on July 8, 2021'\n",
    "matches = re.findall(regex_pattern, txt)\n",
    "print(matches)  # ['6', '2', '0', '1', '9', '8', '2', '0', '2', '1'], this is not what we want"
   ]
  },
  {
   "cell_type": "markdown",
   "metadata": {},
   "source": [
    "regex_pattern = r'\\d+'  # d is a special character which means digits, + mean one or more times\n",
    "txt = 'This regular expression example was made on December 6,  2019 and revised on July 8, 2021'\n",
    "matches = re.findall(regex_pattern, txt)\n",
    "print(matches)  # ['6', '2019', '8', '2021'] - now, this is better!"
   ]
  },
  {
   "cell_type": "markdown",
   "metadata": {},
   "source": [
    "regex_pattern = r'\\d+'  # d is a special character which means digits, + mean one or more times\n",
    "txt = 'This regular expression example was made on December 6,  2019 and revised on July 8, 2021'\n",
    "matches = re.findall(regex_pattern, txt)\n",
    "print(matches)  # ['6', '2019', '8', '2021'] - now, this is better!"
   ]
  },
  {
   "cell_type": "markdown",
   "metadata": {},
   "source": [
    "regex_pattern = r'[a].*'  # . any character, * any character zero or more times \n",
    "txt = '''Apple and banana are fruits'''\n",
    "matches = re.findall(regex_pattern, txt)\n",
    "print(matches)  # ['and banana are fruits']"
   ]
  },
  {
   "cell_type": "markdown",
   "metadata": {},
   "source": [
    "txt = '''I am not sure if there is a convention how to write the word e-mail.\n",
    "Some people write it as email others may write it as Email or E-mail.'''\n",
    "regex_pattern = r'[Ee]-?mail'  # ? means here that '-' is optional\n",
    "matches = re.findall(regex_pattern, txt)\n",
    "print(matches)  # ['e-mail', 'email', 'Email', 'E-mail']"
   ]
  },
  {
   "cell_type": "markdown",
   "metadata": {},
   "source": [
    "txt = 'This regular expression example was made on December 6,  2019 and revised on July 8, 2021'\n",
    "regex_pattern = r'\\d{4}'  # exactly four times\n",
    "matches = re.findall(regex_pattern, txt)\n",
    "print(matches)  # ['2019', '2021']\n",
    "\n",
    "txt = 'This regular expression example was made on December 6,  2019 and revised on July 8, 2021'\n",
    "regex_pattern = r'\\d{1, 4}'   # 1 to 4\n",
    "matches = re.findall(regex_pattern, txt)\n",
    "print(matches)  # ['6', '2019', '8', '2021']"
   ]
  },
  {
   "cell_type": "markdown",
   "metadata": {},
   "source": [
    "txt = 'This regular expression example was made on December 6,  2019 and revised on July 8, 2021'\n",
    "regex_pattern = r'^This'  # ^ means starts with\n",
    "matches = re.findall(regex_pattern, txt)\n",
    "print(matches)  # ['This']"
   ]
  },
  {
   "cell_type": "markdown",
   "metadata": {},
   "source": [
    "txt = 'This regular expression example was made on December 6,  2019 and revised on July 8, 2021'\n",
    "regex_pattern = r'[^A-Za-z ]+'  # ^ in set character means negation, not A to Z, not a to z, no space\n",
    "matches = re.findall(regex_pattern, txt)\n",
    "print(matches)  # ['6,', '2019', '8', '2021']"
   ]
  }
 ],
 "metadata": {
  "language_info": {
   "name": "python"
  }
 },
 "nbformat": 4,
 "nbformat_minor": 2
}
