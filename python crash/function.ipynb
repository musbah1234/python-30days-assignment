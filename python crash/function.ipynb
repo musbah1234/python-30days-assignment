{
 "cells": [
  {
   "cell_type": "code",
   "execution_count": 3,
   "metadata": {},
   "outputs": [
    {
     "name": "stdout",
     "output_type": "stream",
     "text": [
      "I am learning Data Science and machine learning\n"
     ]
    }
   ],
   "source": [
    "def display_message():\n",
    "    print(\"I am learning Data Science and machine learning\")\n",
    "\n",
    "\n",
    "display_message()"
   ]
  },
  {
   "cell_type": "code",
   "execution_count": 6,
   "metadata": {},
   "outputs": [
    {
     "name": "stdout",
     "output_type": "stream",
     "text": [
      "One of my favourite book is Alice in wonder Land\n"
     ]
    }
   ],
   "source": [
    "def favorite_book(title):\n",
    "    print(f\"One of my favourite book is {title} in wonder Land\")\n",
    "\n",
    "\n",
    "favorite_book(\"Alice\")"
   ]
  },
  {
   "cell_type": "code",
   "execution_count": 10,
   "metadata": {},
   "outputs": [
    {
     "name": "stdout",
     "output_type": "stream",
     "text": [
      "this shirt is size 80 and chosen one is printed on it\n",
      "this shirt is size 70 and I am Invincible is printed on it\n"
     ]
    }
   ],
   "source": [
    "def make_shirt(size, text):\n",
    "    print(f\"this shirt is size {size} and {text} is printed on it\")\n",
    "\n",
    "\n",
    "make_shirt(80, \"chosen one\")\n",
    "make_shirt(size=70, text=\"I am Invincible\")"
   ]
  },
  {
   "cell_type": "code",
   "execution_count": 13,
   "metadata": {},
   "outputs": [
    {
     "name": "stdout",
     "output_type": "stream",
     "text": [
      "shirt one is large and I love python is printed on it\n",
      "shirt two is medium and I love python is printed on it\n",
      "shirt three is small and Hello world is printed on it\n"
     ]
    }
   ],
   "source": [
    "def make_shirt(text1, text2, size1=\"large\", size2=\"medium\", size3= \"small\", ):\n",
    "    print(f\"shirt one is {size1} and {text1} is printed on it\\nshirt two is {size2} and {text1} is printed on it\\nshirt three is {size3} and {text2} is printed on it\")\n",
    "\n",
    "make_shirt(text1=\"I love python\", text2=\"Hello world\")"
   ]
  },
  {
   "cell_type": "code",
   "execution_count": 14,
   "metadata": {},
   "outputs": [
    {
     "name": "stdout",
     "output_type": "stream",
     "text": [
      "acra is in Ghana\n",
      "tokyo is in Japan\n",
      "abuja is in Nigeria\n"
     ]
    }
   ],
   "source": [
    "def describe_city(city, country=\"Nigeria\"):\n",
    "    print(f\"{city} is in {country}\")\n",
    "\n",
    "describe_city(\"acra\", \"Ghana\")\n",
    "describe_city(\"tokyo\", \"Japan\")\n",
    "describe_city(\"abuja\",)"
   ]
  },
  {
   "cell_type": "code",
   "execution_count": 2,
   "metadata": {},
   "outputs": [
    {
     "name": "stdout",
     "output_type": "stream",
     "text": [
      "Abuja Nigeria\n"
     ]
    }
   ],
   "source": [
    "def city_country(city, country):\n",
    "    cityAndCountry = f\"{city} {country}\"\n",
    "    return cityAndCountry.title()\n",
    "\n",
    "formatedCandC = city_country(\"abuja\", \"Nigeria\")\n",
    "print(formatedCandC)"
   ]
  },
  {
   "cell_type": "code",
   "execution_count": 1,
   "metadata": {},
   "outputs": [
    {
     "name": "stdout",
     "output_type": "stream",
     "text": [
      "{'artist': 'Adele', 'title': '21'}\n",
      "{'artist': 'Ed Sheeran', 'title': '÷', 'songs': 12}\n",
      "{'artist': 'Taylor Swift', 'title': 'Red', 'songs': 16}\n"
     ]
    }
   ],
   "source": [
    "def make_album(artist, title, songs=None):\n",
    "    album_info = {'artist': artist, 'title': title}\n",
    "    if songs is not None:\n",
    "        album_info['songs'] = songs\n",
    "    return album_info\n",
    "\n",
    "# Creating three dictionaries representing different albums\n",
    "album1 = make_album('Adele', '21')\n",
    "album2 = make_album('Ed Sheeran', '÷', 12)\n",
    "album3 = make_album('Taylor Swift', 'Red', 16)\n",
    "\n",
    "# Printing each return value to show the stored album information\n",
    "print(album1)\n",
    "print(album2)\n",
    "print(album3)\n"
   ]
  },
  {
   "cell_type": "code",
   "execution_count": 3,
   "metadata": {},
   "outputs": [
    {
     "name": "stdout",
     "output_type": "stream",
     "text": [
      "{'artist': 'Adele', 'title': '21'}\n",
      "{'artist': 'Ed Sheeran', 'title': '÷'}\n",
      "{'artist': 'Taylor Swift', 'title': 'Red'}\n"
     ]
    }
   ],
   "source": [
    "def make_album(artist, title, songs=None):\n",
    "    album_info = {'artist': artist, 'title': title}\n",
    "    if songs is not None:\n",
    "        album_info['songs'] = songs\n",
    "    return album_info\n",
    "\n",
    "# User Albums Loop\n",
    "while True:\n",
    "    artist = input(\"Enter the artist's name (or 'q' to quit): \")\n",
    "    if artist.lower() == 'q':\n",
    "        break\n",
    "\n",
    "    title = input(\"Enter the album title: \")\n",
    "    \n",
    "    # Call make_album with user input\n",
    "    album_dict = make_album(artist, title)\n",
    "\n",
    "    # Print the created dictionary\n",
    "    print(album_dict)\n"
   ]
  },
  {
   "cell_type": "code",
   "execution_count": 4,
   "metadata": {},
   "outputs": [
    {
     "name": "stdout",
     "output_type": "stream",
     "text": [
      "Hello!\n",
      "How are you?\n",
      "Python is fun!\n",
      "Happy coding!\n"
     ]
    }
   ],
   "source": [
    "def show_messages(messages):\n",
    "    for message in messages:\n",
    "        print(message)\n",
    "\n",
    "# Creating a list of short text messages\n",
    "text_messages = [\"Hello!\", \"How are you?\", \"Python is fun!\", \"Happy coding!\"]\n",
    "\n",
    "# Calling the show_messages function to print each text message\n",
    "show_messages(text_messages)\n"
   ]
  },
  {
   "cell_type": "code",
   "execution_count": 5,
   "metadata": {},
   "outputs": [
    {
     "name": "stdout",
     "output_type": "stream",
     "text": [
      "Hello!\n",
      "How are you?\n",
      "Python is fun!\n",
      "Happy coding!\n",
      "Original Messages: []\n",
      "Sent Messages: ['Hello!', 'How are you?', 'Python is fun!', 'Happy coding!']\n"
     ]
    }
   ],
   "source": [
    "def send_messages(messages, sent_messages):\n",
    "    while messages:\n",
    "        current_message = messages.pop(0)\n",
    "        print(current_message)\n",
    "        sent_messages.append(current_message)\n",
    "\n",
    "# Creating a list of short text messages\n",
    "text_messages = [\"Hello!\", \"How are you?\", \"Python is fun!\", \"Happy coding!\"]\n",
    "\n",
    "# Creating an empty list to store sent messages\n",
    "sent_messages = []\n",
    "\n",
    "# Calling the send_messages function to print and move messages\n",
    "send_messages(text_messages, sent_messages)\n",
    "\n",
    "# Printing both lists to verify the messages were moved correctly\n",
    "print(\"Original Messages:\", text_messages)\n",
    "print(\"Sent Messages:\", sent_messages)\n"
   ]
  },
  {
   "cell_type": "code",
   "execution_count": 6,
   "metadata": {},
   "outputs": [
    {
     "name": "stdout",
     "output_type": "stream",
     "text": [
      "Hello!\n",
      "How are you?\n",
      "Python is fun!\n",
      "Happy coding!\n",
      "Original Messages: ['Hello!', 'How are you?', 'Python is fun!', 'Happy coding!']\n",
      "Sent Messages: ['Hello!', 'How are you?', 'Python is fun!', 'Happy coding!']\n"
     ]
    }
   ],
   "source": [
    "def send_messages(messages, sent_messages):\n",
    "    while messages:\n",
    "        current_message = messages.pop(0)\n",
    "        print(current_message)\n",
    "        sent_messages.append(current_message)\n",
    "\n",
    "# Creating a list of short text messages\n",
    "text_messages = [\"Hello!\", \"How are you?\", \"Python is fun!\", \"Happy coding!\"]\n",
    "\n",
    "# Creating a copy of the original list\n",
    "copied_messages = text_messages.copy()\n",
    "\n",
    "# Creating an empty list to store sent messages\n",
    "sent_messages = []\n",
    "\n",
    "# Calling the send_messages function with the copy of the list\n",
    "send_messages(copied_messages, sent_messages)\n",
    "\n",
    "# Printing both lists to show that the original list retained its messages\n",
    "print(\"Original Messages:\", text_messages)\n",
    "print(\"Sent Messages:\", sent_messages)\n"
   ]
  },
  {
   "cell_type": "code",
   "execution_count": 1,
   "metadata": {},
   "outputs": [
    {
     "name": "stdout",
     "output_type": "stream",
     "text": [
      "Sandwich Summary:\n",
      "- Turkey\n",
      "- Cheese\n",
      "- Lettuce\n",
      "- Tomato\n",
      "Sandwich Summary:\n",
      "- Ham\n",
      "- Swiss Cheese\n",
      "Sandwich Summary:\n",
      "- Peanut Butter\n",
      "- Jelly\n"
     ]
    }
   ],
   "source": [
    "def make_sandwich(*ingredients):\n",
    "    print(\"Sandwich Summary:\")\n",
    "    if ingredients:\n",
    "        for ingredient in ingredients:\n",
    "            print(f\"- {ingredient}\")\n",
    "    else:\n",
    "        print(\"No ingredients provided.\")\n",
    "\n",
    "# Calling the function three times with different numbers of arguments\n",
    "make_sandwich(\"Turkey\", \"Cheese\", \"Lettuce\", \"Tomato\")\n",
    "make_sandwich(\"Ham\", \"Swiss Cheese\")\n",
    "make_sandwich(\"Peanut Butter\", \"Jelly\")\n"
   ]
  },
  {
   "cell_type": "code",
   "execution_count": 2,
   "metadata": {},
   "outputs": [
    {
     "name": "stdout",
     "output_type": "stream",
     "text": [
      "{'location': 'kano', 'field': 'Biology', 'first_name': 'Musbah', 'last_name': 'Umar'}\n"
     ]
    }
   ],
   "source": [
    "def build_profile(first, last, **user_info):\n",
    "\n",
    "   user_info['first_name'] = first\n",
    "   user_info['last_name'] = last\n",
    "   return user_info\n",
    "user_profile = build_profile('Musbah', 'Umar',\n",
    "location='kano',\n",
    "field='Biology')\n",
    "print(user_profile)"
   ]
  },
  {
   "cell_type": "code",
   "execution_count": 3,
   "metadata": {},
   "outputs": [
    {
     "name": "stdout",
     "output_type": "stream",
     "text": [
      "{'manufacturer': 'subaru', 'model': 'outback', 'color': 'blue', 'tow_package': True}\n"
     ]
    }
   ],
   "source": [
    "def make_car(manufacturer, model, **arbkeys):\n",
    "    car_info = {'manufacturer': manufacturer, 'model': model}\n",
    "    car_info.update(arbkeys)\n",
    "    return car_info\n",
    "\n",
    "# Example call\n",
    "car = make_car('subaru', 'outback', color='blue', tow_package=True)\n",
    "print(car)\n"
   ]
  }
 ],
 "metadata": {
  "kernelspec": {
   "display_name": "Python 3",
   "language": "python",
   "name": "python3"
  },
  "language_info": {
   "codemirror_mode": {
    "name": "ipython",
    "version": 3
   },
   "file_extension": ".py",
   "mimetype": "text/x-python",
   "name": "python",
   "nbconvert_exporter": "python",
   "pygments_lexer": "ipython3",
   "version": "3.9.18"
  }
 },
 "nbformat": 4,
 "nbformat_minor": 2
}
