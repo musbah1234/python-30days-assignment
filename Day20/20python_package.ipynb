{
 "cells": [
  {
   "cell_type": "markdown",
   "metadata": {},
   "source": [
    "asabeneh@Asabeneh:~$ pip install pip"
   ]
  },
  {
   "cell_type": "markdown",
   "metadata": {},
   "source": [
    "pip --version"
   ]
  },
  {
   "cell_type": "markdown",
   "metadata": {},
   "source": [
    "asabeneh@Asabeneh:~$ pip --version\n",
    "pip 21.1.3 from /usr/local/lib/python3.7/site-packages/pip (python 3.9.6)"
   ]
  },
  {
   "cell_type": "markdown",
   "metadata": {},
   "source": [
    "asabeneh@Asabeneh:~$ pip install numpy"
   ]
  },
  {
   "cell_type": "markdown",
   "metadata": {},
   "source": [
    "asabeneh@Asabeneh:~$ python\n",
    "Python 3.9.6 (default, Jun 28 2021, 15:26:21)\n",
    "[Clang 11.0.0 (clang-1100.0.33.8)] on darwin\n",
    "Type \"help\", \"copyright\", \"credits\" or \"license\" for more information.\n",
    ">>> import numpy\n",
    ">>> numpy.version.version\n",
    "'1.20.1'\n",
    ">>> lst = [1, 2, 3,4, 5]\n",
    ">>> np_arr = numpy.array(lst)\n",
    ">>> np_arr\n",
    "array([1, 2, 3, 4, 5])\n",
    ">>> len(np_arr)\n",
    "5\n",
    ">>> np_arr * 2\n",
    "array([ 2,  4,  6,  8, 10])\n",
    ">>> np_arr  + 2\n",
    "array([3, 4, 5, 6, 7])\n",
    ">>>"
   ]
  },
  {
   "cell_type": "markdown",
   "metadata": {},
   "source": [
    "asabeneh@Asabeneh:~$ pip install pandas"
   ]
  },
  {
   "cell_type": "markdown",
   "metadata": {},
   "source": [
    "asabeneh@Asabeneh:~$ python\n",
    "Python 3.9.6 (default, Jun 28 2021, 15:26:21)\n",
    "[Clang 11.0.0 (clang-1100.0.33.8)] on darwin\n",
    "Type \"help\", \"copyright\", \"credits\" or \"license\" for more information.\n",
    ">>> import pandas"
   ]
  },
  {
   "cell_type": "markdown",
   "metadata": {},
   "source": [
    "import webbrowser # web browser module to open websites\n",
    "\n",
    "# list of urls: python\n",
    "url_lists = [\n",
    "    'http://www.python.org',\n",
    "    'https://www.linkedin.com/in/asabeneh/',\n",
    "    'https://github.com/Asabeneh',\n",
    "    'https://twitter.com/Asabeneh',\n",
    "]\n",
    "\n",
    "# opens the above list of websites in a different tab\n",
    "for url in url_lists:\n",
    "    webbrowser.open_new_tab(url)"
   ]
  },
  {
   "cell_type": "markdown",
   "metadata": {},
   "source": [
    "pip uninstall packagename"
   ]
  },
  {
   "cell_type": "markdown",
   "metadata": {},
   "source": [
    "pip show packagename"
   ]
  },
  {
   "cell_type": "markdown",
   "metadata": {},
   "source": [
    "asabeneh@Asabeneh:~$ pip show pandas\n",
    "Name: pandas\n",
    "Version: 1.2.3\n",
    "Summary: Powerful data structures for data analysis, time series, and statistics\n",
    "Home-page: http://pandas.pydata.org\n",
    "Author: None\n",
    "Author-email: None\n",
    "License: BSD\n",
    "Location: /usr/local/lib/python3.7/site-packages\n",
    "Requires: python-dateutil, pytz, numpy\n",
    "Required-by:"
   ]
  },
  {
   "cell_type": "markdown",
   "metadata": {},
   "source": [
    "asabeneh@Asabeneh:~$ pip show --verbose pandas\n",
    "Name: pandas\n",
    "Version: 1.2.3\n",
    "Summary: Powerful data structures for data analysis, time series, and statistics\n",
    "Home-page: http://pandas.pydata.org\n",
    "Author: None\n",
    "Author-email: None\n",
    "License: BSD\n",
    "Location: /usr/local/lib/python3.7/site-packages\n",
    "Requires: numpy, pytz, python-dateutil\n",
    "Required-by:\n",
    "Metadata-Version: 2.1\n",
    "Installer: pip\n",
    "Classifiers:\n",
    "  Development Status :: 5 - Production/Stable\n",
    "  Environment :: Console\n",
    "  Operating System :: OS Independent\n",
    "  Intended Audience :: Science/Research\n",
    "  Programming Language :: Python\n",
    "  Programming Language :: Python :: 3\n",
    "  Programming Language :: Python :: 3.5\n",
    "  Programming Language :: Python :: 3.6\n",
    "  Programming Language :: Python :: 3.7\n",
    "  Programming Language :: Python :: 3.8\n",
    "  Programming Language :: Cython\n",
    "  Topic :: Scientific/Engineering\n",
    "Entry-points:\n",
    "  [pandas_plotting_backends]\n",
    "  matplotlib = pandas:plotting._matplotlib"
   ]
  },
  {
   "cell_type": "markdown",
   "metadata": {},
   "source": [
    "asabeneh@Asabeneh:~$ pip freeze\n",
    "docutils==0.11\n",
    "Jinja2==2.7.2\n",
    "MarkupSafe==0.19\n",
    "Pygments==1.6\n",
    "Sphinx==1.2.2"
   ]
  },
  {
   "cell_type": "markdown",
   "metadata": {},
   "source": [
    "asabeneh@Asabeneh:~$ pip install requests"
   ]
  },
  {
   "cell_type": "markdown",
   "metadata": {},
   "source": [
    "import requests # importing the request module\n",
    "\n",
    "url = 'https://www.w3.org/TR/PNG/iso_8859-1.txt' # text from a website\n",
    "\n",
    "response = requests.get(url) # opening a network and fetching a data\n",
    "print(response)\n",
    "print(response.status_code) # status code, success:200\n",
    "print(response.headers)     # headers information\n",
    "print(response.text) # gives all the text from the page"
   ]
  },
  {
   "cell_type": "markdown",
   "metadata": {},
   "source": [
    "<Response [200]>\n",
    "200\n",
    "{'date': 'Sun, 08 Dec 2019 18:00:31 GMT', 'last-modified': 'Fri, 07 Nov 2003 05:51:11 GMT', 'etag': '\"17e9-3cb82080711c0;50c0b26855880-gzip\"', 'accept-ranges': 'bytes', 'cache-control': 'max-age=31536000', 'expires': 'Mon, 07 Dec 2020 18:00:31 GMT', 'vary': 'Accept-Encoding', 'content-encoding': 'gzip', 'access-control-allow-origin': '*', 'content-length': '1616', 'content-type': 'text/plain', 'strict-transport-security': 'max-age=15552000; includeSubdomains; preload', 'content-security-policy': 'upgrade-insecure-requests'}"
   ]
  },
  {
   "cell_type": "markdown",
   "metadata": {},
   "source": [
    "import requests\n",
    "url = 'https://restcountries.eu/rest/v2/all'  # countries api\n",
    "response = requests.get(url)  # opening a network and fetching a data\n",
    "print(response) # response object\n",
    "print(response.status_code)  # status code, success:200\n",
    "countries = response.json()\n",
    "print(countries[:1])  # we sliced only the first country, remove the slicing to see all countries"
   ]
  },
  {
   "cell_type": "markdown",
   "metadata": {},
   "source": [
    "<Response [200]>\n",
    "200\n",
    "[{'alpha2Code': 'AF',\n",
    "  'alpha3Code': 'AFG',\n",
    "  'altSpellings': ['AF', 'Afġānistān'],\n",
    "  'area': 652230.0,\n",
    "  'borders': ['IRN', 'PAK', 'TKM', 'UZB', 'TJK', 'CHN'],\n",
    "  'callingCodes': ['93'],\n",
    "  'capital': 'Kabul',\n",
    "  'cioc': 'AFG',\n",
    "  'currencies': [{'code': 'AFN', 'name': 'Afghan afghani', 'symbol': '؋'}],\n",
    "  'demonym': 'Afghan',\n",
    "  'flag': 'https://restcountries.eu/data/afg.svg',\n",
    "  'gini': 27.8,\n",
    "  'languages': [{'iso639_1': 'ps',\n",
    "                 'iso639_2': 'pus',\n",
    "                 'name': 'Pashto',\n",
    "                 'nativeName': 'پښتو'},\n",
    "                {'iso639_1': 'uz',\n",
    "                 'iso639_2': 'uzb',\n",
    "                 'name': 'Uzbek',\n",
    "                 'nativeName': 'Oʻzbek'},\n",
    "                {'iso639_1': 'tk',\n",
    "                 'iso639_2': 'tuk',\n",
    "                 'name': 'Turkmen',\n",
    "                 'nativeName': 'Türkmen'}],\n",
    "  'latlng': [33.0, 65.0],\n",
    "  'name': 'Afghanistan',\n",
    "  'nativeName': 'افغانستان',\n",
    "  'numericCode': '004',\n",
    "  'population': 27657145,\n",
    "  'region': 'Asia',\n",
    "  'regionalBlocs': [{'acronym': 'SAARC',\n",
    "                     'name': 'South Asian Association for Regional Cooperation',\n",
    "                     'otherAcronyms': [],\n",
    "                     'otherNames': []}],\n",
    "  'subregion': 'Southern Asia',\n",
    "  'timezones': ['UTC+04:30'],\n",
    "  'topLevelDomain': ['.af'],\n",
    "  'translations': {'br': 'Afeganistão',\n",
    "                   'de': 'Afghanistan',\n",
    "                   'es': 'Afganistán',\n",
    "                   'fa': 'افغانستان',\n",
    "                   'fr': 'Afghanistan',\n",
    "                   'hr': 'Afganistan',\n",
    "                   'it': 'Afghanistan',\n",
    "                   'ja': 'アフガニスタン',\n",
    "                   'nl': 'Afghanistan',\n",
    "                   'pt': 'Afeganistão'}}]"
   ]
  },
  {
   "cell_type": "markdown",
   "metadata": {},
   "source": [
    "# mypackage/arithmetics.py\n",
    "# arithmetics.py\n",
    "def add_numbers(*args):\n",
    "    total = 0\n",
    "    for num in args:\n",
    "        total += num\n",
    "    return total\n",
    "\n",
    "\n",
    "def subtract(a, b):\n",
    "    return (a - b)\n",
    "\n",
    "\n",
    "def multiple(a, b):\n",
    "    return a * b\n",
    "\n",
    "\n",
    "def division(a, b):\n",
    "    return a / b\n",
    "\n",
    "\n",
    "def remainder(a, b):\n",
    "    return a % b\n",
    "\n",
    "\n",
    "def power(a, b):\n",
    "    return a ** b"
   ]
  },
  {
   "cell_type": "markdown",
   "metadata": {},
   "source": [
    "# mypackage/greet.py\n",
    "# greet.py\n",
    "def greet_person(firstname, lastname):\n",
    "    return f'{firstname} {lastname}, welcome to 30DaysOfPython Challenge!'"
   ]
  },
  {
   "cell_type": "markdown",
   "metadata": {},
   "source": [
    "─ mypackage\n",
    "    ├── __init__.py\n",
    "    ├── arithmetic.py\n",
    "    └── greet.py"
   ]
  },
  {
   "cell_type": "markdown",
   "metadata": {},
   "source": [
    "asabeneh@Asabeneh:~/Desktop/30DaysOfPython$ python\n",
    "Python 3.9.6 (default, Jun 28 2021, 15:26:21)\n",
    "[Clang 11.0.0 (clang-1100.0.33.8)] on darwin\n",
    "Type \"help\", \"copyright\", \"credits\" or \"license\" for more information.\n",
    ">>> from mypackage import arithmetics\n",
    ">>> arithmetics.add_numbers(1, 2, 3, 5)\n",
    "11\n",
    ">>> arithmetics.subtract(5, 3)\n",
    "2\n",
    ">>> arithmetics.multiple(5, 3)\n",
    "15\n",
    ">>> arithmetics.division(5, 3)\n",
    "1.6666666666666667\n",
    ">>> arithmetics.remainder(5, 3)\n",
    "2\n",
    ">>> arithmetics.power(5, 3)\n",
    "125\n",
    ">>> from mypackage import greet\n",
    ">>> greet.greet_person('Asabeneh', 'Yetayeh')\n",
    "'Asabeneh Yetayeh, welcome to 30DaysOfPython Challenge!'\n",
    ">>>"
   ]
  }
 ],
 "metadata": {
  "language_info": {
   "name": "python"
  }
 },
 "nbformat": 4,
 "nbformat_minor": 2
}
